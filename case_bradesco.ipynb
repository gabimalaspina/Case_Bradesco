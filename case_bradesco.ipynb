{
  "nbformat": 4,
  "nbformat_minor": 0,
  "metadata": {
    "colab": {
      "provenance": [],
      "collapsed_sections": [
        "-Rz3FJbHdEjD",
        "eAvTvvn6DQNY",
        "x4P6OgkcDk4p",
        "bdnAf6Z_DnBh",
        "IGgfWC6MMhqL",
        "N2KjwjMxMohK",
        "Yhr_peqgZFGo",
        "QNVsjEiaZNgX"
      ]
    },
    "kernelspec": {
      "name": "python3",
      "display_name": "Python 3"
    },
    "language_info": {
      "name": "python"
    }
  },
  "cells": [
    {
      "cell_type": "markdown",
      "source": [
        "### **Case Bradesco - Processo seletivo Gabriela Malaspina**"
      ],
      "metadata": {
        "id": "ocXBjWTbc6IZ"
      }
    },
    {
      "cell_type": "markdown",
      "source": [
        "#### Etapa 01\n",
        "\n",
        "\"Carregue as bases de dados como DataFrames do PySpark. Especifique os formatos dos dados manualmente, não use a opção inferSchema = True.\""
      ],
      "metadata": {
        "id": "-Rz3FJbHdEjD"
      }
    },
    {
      "cell_type": "markdown",
      "source": [
        "\n",
        "##### **1. Configuração do ambiente**"
      ],
      "metadata": {
        "id": "eAvTvvn6DQNY"
      }
    },
    {
      "cell_type": "code",
      "execution_count": 51,
      "metadata": {
        "id": "vkvgNsrI_eAr"
      },
      "outputs": [],
      "source": [
        "# Importação das bibliotecas e recursos\n",
        "\n",
        "!pip install pyspark\n",
        "from pyspark.sql import SparkSession\n",
        "from pyspark.sql.types import StructType, StructField, IntegerType, FloatType, StringType, TimestampType\n",
        "from pyspark.sql.functions import to_timestamp\n",
        "\n",
        "from datetime import datetime\n",
        "import os"
      ]
    },
    {
      "cell_type": "markdown",
      "source": [
        "##### **2. Configuração de diretórios, download e extração**"
      ],
      "metadata": {
        "id": "x4P6OgkcDk4p"
      }
    },
    {
      "cell_type": "code",
      "source": [
        "# Criação da SparkSession\n",
        "\n",
        "spark = SparkSession.builder.appName('activity_recognition_exp').getOrCreate()"
      ],
      "metadata": {
        "id": "MF3ornqw_g-_"
      },
      "execution_count": 8,
      "outputs": []
    },
    {
      "cell_type": "code",
      "source": [
        "# Criação de subpastas dentro da pasta \"content\" para simular as camadas \"raw\" e \"bronze\"\n",
        "\n",
        "raw = '/content/raw'\n",
        "os.mkdir(raw)\n",
        "\n",
        "bronze = '/content/bronze'\n",
        "os.mkdir(bronze)"
      ],
      "metadata": {
        "id": "KlZvjL1z_jMP"
      },
      "execution_count": 3,
      "outputs": []
    },
    {
      "cell_type": "code",
      "source": [
        "# Download e extração do arquivo .zip na camada \"raw\" (dados brutos)\n",
        "\n",
        "# Link para download\n",
        "url='https://archive.ics.uci.edu/ml/machine-learning-databases/00344/Activity%20recognition%20exp.zip'\n",
        "\n",
        "# Mudança para o diretório de destino (camada \"raw\")\n",
        "#os.chdir(raw)\n",
        "\n",
        "# Download do .zip com o nome \"activity_rec_exp.zip\" na camada \"raw\"\n",
        "!wget -O activity_recognition_exp.zip \"$url\" -d \"$raw\"\n",
        "\n",
        "# Extração do conteúdo do .zip na camada \"raw\"\n",
        "!unzip -j -d activity_recognition_exp /content/raw/activity_recognition_exp.zip"
      ],
      "metadata": {
        "id": "00FIaLPz_pbt"
      },
      "execution_count": null,
      "outputs": []
    },
    {
      "cell_type": "markdown",
      "source": [
        "##### **3. Leitura dos arquivos .csv e configuração dos dataframes**"
      ],
      "metadata": {
        "id": "bdnAf6Z_DnBh"
      }
    },
    {
      "cell_type": "markdown",
      "source": [
        "Os 4 arquivos possuem a mesma estrutura de atributos:\n",
        "- Index > identificador da amostra (id): INT\n",
        "- Arrival_Time e Creation_Time > momento de chegada e criação das amostras: DATETIME / TIMESTAMP\n",
        "- x, y e z > representam leituras de acelerômetro/giroscópio: FLOAT\n",
        "- User > usuário: STRING\n",
        "- Model e Device > modelo e nome do aparelho: STRING\n",
        "- gt > \"groundtruth\" - referência de posição: STRING\n",
        "\n",
        "Dessa forma, pode-se utilizar a mesma tipagem para o schema em todos os datasets, assim como a formatação para as colunas de datas.\n"
      ],
      "metadata": {
        "id": "WNonuAsaNRI1"
      }
    },
    {
      "cell_type": "code",
      "source": [
        "# Definição do Schema a ser utilizado em todos os datasets\n",
        "\n",
        "schema = StructType([\n",
        "    StructField('Index', IntegerType(), True),\n",
        "    StructField('Arrival_Time', StringType(), True), # Será feita transformação para formato de data na sequência\n",
        "    StructField('Creation_Time', StringType(), True), # Será feita transformação para formato de data na sequência\n",
        "    StructField('x', FloatType(), True),\n",
        "    StructField('y', FloatType(), True),\n",
        "    StructField('z', FloatType(), True),\n",
        "    StructField('User', StringType(), True),\n",
        "    StructField('Model', StringType(), True),\n",
        "    StructField('gt', StringType(), True)\n",
        "])"
      ],
      "metadata": {
        "id": "mwFs4w0pQAge"
      },
      "execution_count": 59,
      "outputs": []
    },
    {
      "cell_type": "markdown",
      "source": [
        "###### Arquivo 01- Acelerômetro de celulares"
      ],
      "metadata": {
        "id": "IGgfWC6MMhqL"
      }
    },
    {
      "cell_type": "code",
      "source": [
        "caminho_01 = '/content/raw/activity_recognition_exp/Phones_accelerometer.csv'\n",
        "\n",
        "# Dataframe inicial\n",
        "phones_acc = spark.read.csv(caminho_01, header=True).show(5)"
      ],
      "metadata": {
        "colab": {
          "base_uri": "https://localhost:8080/"
        },
        "id": "lLFfSdh1D2XV",
        "outputId": "27ded86f-a59f-45f8-b94c-25936ce2f1bc"
      },
      "execution_count": 95,
      "outputs": [
        {
          "output_type": "stream",
          "name": "stdout",
          "text": [
            "+-----+-------------+-------------------+------------------+------------------+--------+----+------+--------+-----+\n",
            "|Index| Arrival_Time|      Creation_Time|                 x|                 y|       z|User| Model|  Device|   gt|\n",
            "+-----+-------------+-------------------+------------------+------------------+--------+----+------+--------+-----+\n",
            "|    0|1424696633908|1424696631913248572|         -5.958191|         0.6880646|8.135345|   a|nexus4|nexus4_1|stand|\n",
            "|    1|1424696633909|1424696631918283972|          -5.95224|         0.6702118|8.136536|   a|nexus4|nexus4_1|stand|\n",
            "|    2|1424696633918|1424696631923288855|        -5.9950867|0.6535491999999999|8.204376|   a|nexus4|nexus4_1|stand|\n",
            "|    3|1424696633919|1424696631928385290|        -5.9427185|0.6761626999999999|8.128204|   a|nexus4|nexus4_1|stand|\n",
            "|    4|1424696633929|1424696631933420691|-5.991516000000001|        0.64164734|8.135345|   a|nexus4|nexus4_1|stand|\n",
            "+-----+-------------+-------------------+------------------+------------------+--------+----+------+--------+-----+\n",
            "only showing top 5 rows\n",
            "\n"
          ]
        }
      ]
    },
    {
      "cell_type": "code",
      "source": [
        "# Aplicação do schema e transformações das datas\n",
        "\n",
        "phones_acc = spark.read.csv(caminho_01, schema=schema, header=True)\n",
        "\n",
        "# Conversão de Arrival_Time (em milissegundos)\n",
        "phones_acc = phones_acc.withColumn(\"Arrival_Time\", (phones_acc[\"Arrival_Time\"] / 1000).cast(\"timestamp\"))\n",
        "\n",
        "# Conversão de Creation_Time (em nanossegundos)\n",
        "phones_acc = phones_acc.withColumn(\"Creation_Time\", (phones_acc[\"Creation_Time\"] / 1e9).cast(\"timestamp\"))"
      ],
      "metadata": {
        "id": "2K14G0skTgaX"
      },
      "execution_count": 112,
      "outputs": []
    },
    {
      "cell_type": "code",
      "source": [
        "# Dataframe formatado\n",
        "phones_acc.show(5)"
      ],
      "metadata": {
        "colab": {
          "base_uri": "https://localhost:8080/"
        },
        "id": "tet4V2LyHxu0",
        "outputId": "ed539007-7e58-488f-e5ff-686977268c28"
      },
      "execution_count": 94,
      "outputs": [
        {
          "output_type": "stream",
          "name": "stdout",
          "text": [
            "+-----+--------------------+--------------------+----------+----------+--------+----+------+--------+\n",
            "|Index|        Arrival_Time|       Creation_Time|         x|         y|       z|User| Model|      gt|\n",
            "+-----+--------------------+--------------------+----------+----------+--------+----+------+--------+\n",
            "|    0|2015-02-23 13:03:...|2015-02-23 13:03:...| -5.958191| 0.6880646|8.135345|   a|nexus4|nexus4_1|\n",
            "|    1|2015-02-23 13:03:...|2015-02-23 13:03:...|  -5.95224| 0.6702118|8.136536|   a|nexus4|nexus4_1|\n",
            "|    2|2015-02-23 13:03:...|2015-02-23 13:03:...|-5.9950867| 0.6535492|8.204376|   a|nexus4|nexus4_1|\n",
            "|    3|2015-02-23 13:03:...|2015-02-23 13:03:...|-5.9427185| 0.6761627|8.128204|   a|nexus4|nexus4_1|\n",
            "|    4|2015-02-23 13:03:...|2015-02-23 13:03:...| -5.991516|0.64164734|8.135345|   a|nexus4|nexus4_1|\n",
            "+-----+--------------------+--------------------+----------+----------+--------+----+------+--------+\n",
            "only showing top 5 rows\n",
            "\n"
          ]
        }
      ]
    },
    {
      "cell_type": "code",
      "source": [
        "# Verificação do Schema estruturado\n",
        "phones_acc.printSchema()"
      ],
      "metadata": {
        "colab": {
          "base_uri": "https://localhost:8080/"
        },
        "id": "YEiNTRB_EUnF",
        "outputId": "adbc7261-bed7-4675-df6e-e4b18b7b7afc"
      },
      "execution_count": 91,
      "outputs": [
        {
          "output_type": "stream",
          "name": "stdout",
          "text": [
            "root\n",
            " |-- Index: integer (nullable = true)\n",
            " |-- Arrival_Time: timestamp (nullable = true)\n",
            " |-- Creation_Time: timestamp (nullable = true)\n",
            " |-- x: float (nullable = true)\n",
            " |-- y: float (nullable = true)\n",
            " |-- z: float (nullable = true)\n",
            " |-- User: string (nullable = true)\n",
            " |-- Model: string (nullable = true)\n",
            " |-- gt: string (nullable = true)\n",
            "\n"
          ]
        }
      ]
    },
    {
      "cell_type": "markdown",
      "source": [
        "###### Arquivo 02- Giroscópio de celulares"
      ],
      "metadata": {
        "id": "N2KjwjMxMohK"
      }
    },
    {
      "cell_type": "code",
      "source": [
        "caminho_02 = '/content/raw/activity_recognition_exp/Phones_gyroscope.csv'\n",
        "\n",
        "# Dataframe inicial\n",
        "phones_gyr = spark.read.csv(caminho_02, header=True).show(5)"
      ],
      "metadata": {
        "colab": {
          "base_uri": "https://localhost:8080/"
        },
        "id": "2TtiQgG1MohL",
        "outputId": "e6b9ab9e-fa65-4ff2-dccb-15b4efc34ebf"
      },
      "execution_count": 96,
      "outputs": [
        {
          "output_type": "stream",
          "name": "stdout",
          "text": [
            "+-----+-------------+-------------------+--------------------+--------------------+------------+----+------+--------+-----+\n",
            "|Index| Arrival_Time|      Creation_Time|                   x|                   y|           z|User| Model|  Device|   gt|\n",
            "+-----+-------------+-------------------+--------------------+--------------------+------------+----+------+--------+-----+\n",
            "|    0|1424696633909|1424696631914042029|         0.013748169|-0.00062561035000...|-0.023376465|   a|nexus4|nexus4_1|stand|\n",
            "|    1|1424696633909|1424696631919046912|0.014816283999999999|       -0.0016937256| -0.02230835|   a|nexus4|nexus4_1|stand|\n",
            "|    2|1424696633918|1424696631924051794|           0.0158844|       -0.0016937256|-0.021240234|   a|nexus4|nexus4_1|stand|\n",
            "|    3|1424696633919|1424696631929117712|         0.016952515|        -0.003829956| -0.02017212|   a|nexus4|nexus4_1|stand|\n",
            "|    4|1424696633928|1424696631934214148|           0.0158844|-0.00703430180000...| -0.02017212|   a|nexus4|nexus4_1|stand|\n",
            "+-----+-------------+-------------------+--------------------+--------------------+------------+----+------+--------+-----+\n",
            "only showing top 5 rows\n",
            "\n"
          ]
        }
      ]
    },
    {
      "cell_type": "code",
      "source": [
        "# Aplicação do schema e transformações previamente definidos e validados na etapa anterior\n",
        "\n",
        "phones_gyr = spark.read.csv(caminho_02, schema=schema, header=True)\n",
        "\n",
        "# Conversão de Arrival_Time (em milissegundos)\n",
        "phones_gyr = phones_gyr.withColumn(\"Arrival_Time\", (phones_gyr[\"Arrival_Time\"] / 1000).cast(\"timestamp\"))\n",
        "\n",
        "# Conversão de Creation_Time (em nanossegundos)\n",
        "phones_gyr = phones_gyr.withColumn(\"Creation_Time\", (phones_gyr[\"Creation_Time\"] / 1e9).cast(\"timestamp\"))"
      ],
      "metadata": {
        "id": "FP37N06lZEy4"
      },
      "execution_count": 99,
      "outputs": []
    },
    {
      "cell_type": "code",
      "source": [
        "# Dataframe formatado\n",
        "phones_gyr.show(5)"
      ],
      "metadata": {
        "colab": {
          "base_uri": "https://localhost:8080/"
        },
        "outputId": "dc1fc3e1-cc09-4dfa-e13d-1280dcf06684",
        "id": "-mn9iqxWaWt6"
      },
      "execution_count": 100,
      "outputs": [
        {
          "output_type": "stream",
          "name": "stdout",
          "text": [
            "+-----+--------------------+--------------------+-----------+-------------+------------+----+------+--------+\n",
            "|Index|        Arrival_Time|       Creation_Time|          x|            y|           z|User| Model|      gt|\n",
            "+-----+--------------------+--------------------+-----------+-------------+------------+----+------+--------+\n",
            "|    0|2015-02-23 13:03:...|2015-02-23 13:03:...|0.013748169|-6.2561035E-4|-0.023376465|   a|nexus4|nexus4_1|\n",
            "|    1|2015-02-23 13:03:...|2015-02-23 13:03:...|0.014816284|-0.0016937256| -0.02230835|   a|nexus4|nexus4_1|\n",
            "|    2|2015-02-23 13:03:...|2015-02-23 13:03:...|  0.0158844|-0.0016937256|-0.021240234|   a|nexus4|nexus4_1|\n",
            "|    3|2015-02-23 13:03:...|2015-02-23 13:03:...|0.016952515| -0.003829956| -0.02017212|   a|nexus4|nexus4_1|\n",
            "|    4|2015-02-23 13:03:...|2015-02-23 13:03:...|  0.0158844|-0.0070343018| -0.02017212|   a|nexus4|nexus4_1|\n",
            "+-----+--------------------+--------------------+-----------+-------------+------------+----+------+--------+\n",
            "only showing top 5 rows\n",
            "\n"
          ]
        }
      ]
    },
    {
      "cell_type": "code",
      "source": [
        "# Verificação do Schema estruturado\n",
        "phones_gyr.printSchema()"
      ],
      "metadata": {
        "colab": {
          "base_uri": "https://localhost:8080/"
        },
        "outputId": "dfaed27e-7f98-494e-b690-a6b5fc3109cd",
        "id": "mrfQnOh8aWt7"
      },
      "execution_count": 102,
      "outputs": [
        {
          "output_type": "stream",
          "name": "stdout",
          "text": [
            "root\n",
            " |-- Index: integer (nullable = true)\n",
            " |-- Arrival_Time: timestamp (nullable = true)\n",
            " |-- Creation_Time: timestamp (nullable = true)\n",
            " |-- x: float (nullable = true)\n",
            " |-- y: float (nullable = true)\n",
            " |-- z: float (nullable = true)\n",
            " |-- User: string (nullable = true)\n",
            " |-- Model: string (nullable = true)\n",
            " |-- gt: string (nullable = true)\n",
            "\n"
          ]
        }
      ]
    },
    {
      "cell_type": "markdown",
      "source": [
        "###### Arquivo 03- Acelerômetro de relógios"
      ],
      "metadata": {
        "id": "Yhr_peqgZFGo"
      }
    },
    {
      "cell_type": "code",
      "source": [
        "caminho_03 = '/content/raw/activity_recognition_exp/Watch_accelerometer.csv'\n",
        "\n",
        "# Dataframe inicial\n",
        "watch_acc = spark.read.csv(caminho_03, header=True).show(5)"
      ],
      "metadata": {
        "colab": {
          "base_uri": "https://localhost:8080/"
        },
        "id": "1dFK_YqkZFGp",
        "outputId": "df8d608f-4867-4d05-d43a-3fd7e54e96f1"
      },
      "execution_count": 103,
      "outputs": [
        {
          "output_type": "stream",
          "name": "stdout",
          "text": [
            "+-----+-------------+--------------+-----------+----------+-----------+----+-----+------+-----+\n",
            "|Index| Arrival_Time| Creation_Time|          x|         y|          z|User|Model|Device|   gt|\n",
            "+-----+-------------+--------------+-----------+----------+-----------+----+-----+------+-----+\n",
            "|    0|1424696638740|27920678471000| -0.5650316| -9.572019|-0.61411273|   a| gear|gear_1|stand|\n",
            "|    1|1424696638740|27920681910000|-0.83258367| -9.713276|-0.60693014|   a| gear|gear_1|stand|\n",
            "|    2|1424696638740|27920692014000| -1.0181342| -9.935339|-0.54408234|   a| gear|gear_1|stand|\n",
            "|    3|1424696638741|27920701983000| -1.2228385|-10.142437| -0.5662287|   a| gear|gear_1|stand|\n",
            "|    4|1424696638741|27920711906000| -1.5771804|-10.480618|-0.40282443|   a| gear|gear_1|stand|\n",
            "+-----+-------------+--------------+-----------+----------+-----------+----+-----+------+-----+\n",
            "only showing top 5 rows\n",
            "\n"
          ]
        }
      ]
    },
    {
      "cell_type": "code",
      "source": [
        "# Aplicação do schema e transformações previamente definidos e validados nas etapas anteriores\n",
        "\n",
        "watch_acc = spark.read.csv(caminho_03, schema=schema, header=True)\n",
        "\n",
        "# Conversão de Arrival_Time (em milissegundos)\n",
        "watch_acc = watch_acc.withColumn(\"Arrival_Time\", (watch_acc[\"Arrival_Time\"] / 1000).cast(\"timestamp\"))\n",
        "\n",
        "# Conversão de Creation_Time (em nanossegundos)\n",
        "watch_acc = watch_acc.withColumn(\"Creation_Time\", (watch_acc[\"Creation_Time\"] / 1e9).cast(\"timestamp\"))"
      ],
      "metadata": {
        "id": "ZtqwpNhzbGyG"
      },
      "execution_count": 104,
      "outputs": []
    },
    {
      "cell_type": "code",
      "source": [
        "# Dataframe formatado\n",
        "watch_acc.show(5)"
      ],
      "metadata": {
        "colab": {
          "base_uri": "https://localhost:8080/"
        },
        "outputId": "365171b5-4158-40e1-c64f-5be6068667b3",
        "id": "S4FTeVNWbGyI"
      },
      "execution_count": 105,
      "outputs": [
        {
          "output_type": "stream",
          "name": "stdout",
          "text": [
            "+-----+--------------------+--------------------+-----------+----------+-----------+----+-----+------+\n",
            "|Index|        Arrival_Time|       Creation_Time|          x|         y|          z|User|Model|    gt|\n",
            "+-----+--------------------+--------------------+-----------+----------+-----------+----+-----+------+\n",
            "|    0|2015-02-23 13:03:...|1970-01-01 07:45:...| -0.5650316| -9.572019|-0.61411273|   a| gear|gear_1|\n",
            "|    1|2015-02-23 13:03:...|1970-01-01 07:45:...|-0.83258367| -9.713276|-0.60693014|   a| gear|gear_1|\n",
            "|    2|2015-02-23 13:03:...|1970-01-01 07:45:...| -1.0181342| -9.935339|-0.54408234|   a| gear|gear_1|\n",
            "|    3|2015-02-23 13:03:...|1970-01-01 07:45:...| -1.2228385|-10.142437| -0.5662287|   a| gear|gear_1|\n",
            "|    4|2015-02-23 13:03:...|1970-01-01 07:45:...| -1.5771804|-10.480618|-0.40282443|   a| gear|gear_1|\n",
            "+-----+--------------------+--------------------+-----------+----------+-----------+----+-----+------+\n",
            "only showing top 5 rows\n",
            "\n"
          ]
        }
      ]
    },
    {
      "cell_type": "code",
      "source": [
        "# Verificação do Schema estruturado\n",
        "watch_acc.printSchema()"
      ],
      "metadata": {
        "colab": {
          "base_uri": "https://localhost:8080/"
        },
        "outputId": "333c4361-e04d-4f68-bce7-eb0af40adee4",
        "id": "DO5tw5zFbGyJ"
      },
      "execution_count": 106,
      "outputs": [
        {
          "output_type": "stream",
          "name": "stdout",
          "text": [
            "root\n",
            " |-- Index: integer (nullable = true)\n",
            " |-- Arrival_Time: timestamp (nullable = true)\n",
            " |-- Creation_Time: timestamp (nullable = true)\n",
            " |-- x: float (nullable = true)\n",
            " |-- y: float (nullable = true)\n",
            " |-- z: float (nullable = true)\n",
            " |-- User: string (nullable = true)\n",
            " |-- Model: string (nullable = true)\n",
            " |-- gt: string (nullable = true)\n",
            "\n"
          ]
        }
      ]
    },
    {
      "cell_type": "markdown",
      "source": [
        "###### Arquivo 04- Giroscópio de relógios"
      ],
      "metadata": {
        "id": "QNVsjEiaZNgX"
      }
    },
    {
      "cell_type": "code",
      "source": [
        "caminho_04 = '/content/raw/activity_recognition_exp/Watch_gyroscope.csv'\n",
        "\n",
        "# Dataframe inicial\n",
        "watch_gyr = spark.read.csv(caminho_04, header=True).show(5)"
      ],
      "metadata": {
        "colab": {
          "base_uri": "https://localhost:8080/"
        },
        "id": "qgRF7GUmZNgZ",
        "outputId": "465c6bbb-bc99-43e9-9194-a98f3439f19b"
      },
      "execution_count": 107,
      "outputs": [
        {
          "output_type": "stream",
          "name": "stdout",
          "text": [
            "+-----+-------------+--------------+-----------+------------+------------+----+-----+------+-----+\n",
            "|Index| Arrival_Time| Creation_Time|          x|           y|           z|User|Model|Device|   gt|\n",
            "+-----+-------------+--------------+-----------+------------+------------+----+-----+------+-----+\n",
            "|    0|1424696638743|27920678496000|-0.16218652|-0.022104237|  0.05965481|   a| gear|gear_1|stand|\n",
            "|    1|1424696638743|27920681926000|-0.18322548| -0.06178534| 0.012516857|   a| gear|gear_1|stand|\n",
            "|    2|1424696638743|27920692031000|-0.18082865| -0.10865697|-0.036485307|   a| gear|gear_1|stand|\n",
            "|    3|1424696638743|27920701997000|-0.14780544| -0.15792546| -0.09853696|   a| gear|gear_1|stand|\n",
            "|    7|1424696638744|27920743068000| 0.18216023| -0.32357407| -0.27723506|   a| gear|gear_1|stand|\n",
            "+-----+-------------+--------------+-----------+------------+------------+----+-----+------+-----+\n",
            "only showing top 5 rows\n",
            "\n"
          ]
        }
      ]
    },
    {
      "cell_type": "code",
      "source": [
        "# Aplicação do schema e transformações previamente definidos e validados nas etapas anteriores\n",
        "\n",
        "watch_gyr = spark.read.csv(caminho_02, schema=schema, header=True)\n",
        "\n",
        "# Conversão de Arrival_Time (em milissegundos)\n",
        "watch_gyr = watch_gyr.withColumn(\"Arrival_Time\", (watch_gyr[\"Arrival_Time\"] / 1000).cast(\"timestamp\"))\n",
        "\n",
        "# Conversão de Creation_Time (em nanossegundos)\n",
        "watch_gyr = watch_gyr.withColumn(\"Creation_Time\", (watch_gyr[\"Creation_Time\"] / 1e9).cast(\"timestamp\"))"
      ],
      "metadata": {
        "id": "ip5X_TJtboPy"
      },
      "execution_count": 108,
      "outputs": []
    },
    {
      "cell_type": "code",
      "source": [
        "# Dataframe formatado\n",
        "watch_gyr.show(5)"
      ],
      "metadata": {
        "colab": {
          "base_uri": "https://localhost:8080/"
        },
        "outputId": "1c6719d9-1155-4f03-92b6-59b17d93c661",
        "id": "yW8E7XSUboPz"
      },
      "execution_count": 109,
      "outputs": [
        {
          "output_type": "stream",
          "name": "stdout",
          "text": [
            "+-----+--------------------+--------------------+-----------+-------------+------------+----+------+--------+\n",
            "|Index|        Arrival_Time|       Creation_Time|          x|            y|           z|User| Model|      gt|\n",
            "+-----+--------------------+--------------------+-----------+-------------+------------+----+------+--------+\n",
            "|    0|2015-02-23 13:03:...|2015-02-23 13:03:...|0.013748169|-6.2561035E-4|-0.023376465|   a|nexus4|nexus4_1|\n",
            "|    1|2015-02-23 13:03:...|2015-02-23 13:03:...|0.014816284|-0.0016937256| -0.02230835|   a|nexus4|nexus4_1|\n",
            "|    2|2015-02-23 13:03:...|2015-02-23 13:03:...|  0.0158844|-0.0016937256|-0.021240234|   a|nexus4|nexus4_1|\n",
            "|    3|2015-02-23 13:03:...|2015-02-23 13:03:...|0.016952515| -0.003829956| -0.02017212|   a|nexus4|nexus4_1|\n",
            "|    4|2015-02-23 13:03:...|2015-02-23 13:03:...|  0.0158844|-0.0070343018| -0.02017212|   a|nexus4|nexus4_1|\n",
            "+-----+--------------------+--------------------+-----------+-------------+------------+----+------+--------+\n",
            "only showing top 5 rows\n",
            "\n"
          ]
        }
      ]
    },
    {
      "cell_type": "code",
      "source": [
        "# Verificação do Schema estruturado\n",
        "watch_gyr.printSchema()"
      ],
      "metadata": {
        "colab": {
          "base_uri": "https://localhost:8080/"
        },
        "outputId": "5dc35a50-b04a-453c-9158-543c0b53868f",
        "id": "vaL76izUboPz"
      },
      "execution_count": 110,
      "outputs": [
        {
          "output_type": "stream",
          "name": "stdout",
          "text": [
            "root\n",
            " |-- Index: integer (nullable = true)\n",
            " |-- Arrival_Time: timestamp (nullable = true)\n",
            " |-- Creation_Time: timestamp (nullable = true)\n",
            " |-- x: float (nullable = true)\n",
            " |-- y: float (nullable = true)\n",
            " |-- z: float (nullable = true)\n",
            " |-- User: string (nullable = true)\n",
            " |-- Model: string (nullable = true)\n",
            " |-- gt: string (nullable = true)\n",
            "\n"
          ]
        }
      ]
    },
    {
      "cell_type": "markdown",
      "source": [
        "##### **Resultado final etapa 01**"
      ],
      "metadata": {
        "id": "EUNLTQN4b5EV"
      }
    },
    {
      "cell_type": "markdown",
      "source": [
        "Dataframes PySpark com schemas formatados manualmente, com base na documentação."
      ],
      "metadata": {
        "id": "wJaZa7IVcQTG"
      }
    },
    {
      "cell_type": "code",
      "source": [
        "# Acelerômetro de celulares\n",
        "phones_acc.show(5)"
      ],
      "metadata": {
        "colab": {
          "base_uri": "https://localhost:8080/"
        },
        "id": "aAWvXAb7cPyy",
        "outputId": "ce0eab2e-ccc9-42d5-a3d9-64f71dbb8634"
      },
      "execution_count": 113,
      "outputs": [
        {
          "output_type": "stream",
          "name": "stdout",
          "text": [
            "+-----+--------------------+--------------------+----------+----------+--------+----+------+--------+\n",
            "|Index|        Arrival_Time|       Creation_Time|         x|         y|       z|User| Model|      gt|\n",
            "+-----+--------------------+--------------------+----------+----------+--------+----+------+--------+\n",
            "|    0|2015-02-23 13:03:...|2015-02-23 13:03:...| -5.958191| 0.6880646|8.135345|   a|nexus4|nexus4_1|\n",
            "|    1|2015-02-23 13:03:...|2015-02-23 13:03:...|  -5.95224| 0.6702118|8.136536|   a|nexus4|nexus4_1|\n",
            "|    2|2015-02-23 13:03:...|2015-02-23 13:03:...|-5.9950867| 0.6535492|8.204376|   a|nexus4|nexus4_1|\n",
            "|    3|2015-02-23 13:03:...|2015-02-23 13:03:...|-5.9427185| 0.6761627|8.128204|   a|nexus4|nexus4_1|\n",
            "|    4|2015-02-23 13:03:...|2015-02-23 13:03:...| -5.991516|0.64164734|8.135345|   a|nexus4|nexus4_1|\n",
            "+-----+--------------------+--------------------+----------+----------+--------+----+------+--------+\n",
            "only showing top 5 rows\n",
            "\n"
          ]
        }
      ]
    },
    {
      "cell_type": "code",
      "source": [
        "# Giroscópio de celulares\n",
        "phones_gyr.show(5)"
      ],
      "metadata": {
        "colab": {
          "base_uri": "https://localhost:8080/"
        },
        "id": "FuKeJPt7cASY",
        "outputId": "443c69ae-50aa-42cd-d255-2911834675e9"
      },
      "execution_count": 114,
      "outputs": [
        {
          "output_type": "stream",
          "name": "stdout",
          "text": [
            "+-----+--------------------+--------------------+-----------+-------------+------------+----+------+--------+\n",
            "|Index|        Arrival_Time|       Creation_Time|          x|            y|           z|User| Model|      gt|\n",
            "+-----+--------------------+--------------------+-----------+-------------+------------+----+------+--------+\n",
            "|    0|2015-02-23 13:03:...|2015-02-23 13:03:...|0.013748169|-6.2561035E-4|-0.023376465|   a|nexus4|nexus4_1|\n",
            "|    1|2015-02-23 13:03:...|2015-02-23 13:03:...|0.014816284|-0.0016937256| -0.02230835|   a|nexus4|nexus4_1|\n",
            "|    2|2015-02-23 13:03:...|2015-02-23 13:03:...|  0.0158844|-0.0016937256|-0.021240234|   a|nexus4|nexus4_1|\n",
            "|    3|2015-02-23 13:03:...|2015-02-23 13:03:...|0.016952515| -0.003829956| -0.02017212|   a|nexus4|nexus4_1|\n",
            "|    4|2015-02-23 13:03:...|2015-02-23 13:03:...|  0.0158844|-0.0070343018| -0.02017212|   a|nexus4|nexus4_1|\n",
            "+-----+--------------------+--------------------+-----------+-------------+------------+----+------+--------+\n",
            "only showing top 5 rows\n",
            "\n"
          ]
        }
      ]
    },
    {
      "cell_type": "code",
      "source": [
        "# Acelerômetro de relógios\n",
        "watch_acc.show(5)"
      ],
      "metadata": {
        "colab": {
          "base_uri": "https://localhost:8080/"
        },
        "id": "TzbFwofDcnES",
        "outputId": "96eca154-3b70-47a0-b81f-bb4fa42a433a"
      },
      "execution_count": 115,
      "outputs": [
        {
          "output_type": "stream",
          "name": "stdout",
          "text": [
            "+-----+--------------------+--------------------+-----------+----------+-----------+----+-----+------+\n",
            "|Index|        Arrival_Time|       Creation_Time|          x|         y|          z|User|Model|    gt|\n",
            "+-----+--------------------+--------------------+-----------+----------+-----------+----+-----+------+\n",
            "|    0|2015-02-23 13:03:...|1970-01-01 07:45:...| -0.5650316| -9.572019|-0.61411273|   a| gear|gear_1|\n",
            "|    1|2015-02-23 13:03:...|1970-01-01 07:45:...|-0.83258367| -9.713276|-0.60693014|   a| gear|gear_1|\n",
            "|    2|2015-02-23 13:03:...|1970-01-01 07:45:...| -1.0181342| -9.935339|-0.54408234|   a| gear|gear_1|\n",
            "|    3|2015-02-23 13:03:...|1970-01-01 07:45:...| -1.2228385|-10.142437| -0.5662287|   a| gear|gear_1|\n",
            "|    4|2015-02-23 13:03:...|1970-01-01 07:45:...| -1.5771804|-10.480618|-0.40282443|   a| gear|gear_1|\n",
            "+-----+--------------------+--------------------+-----------+----------+-----------+----+-----+------+\n",
            "only showing top 5 rows\n",
            "\n"
          ]
        }
      ]
    },
    {
      "cell_type": "code",
      "source": [
        "# Giroscópio de relógios\n",
        "watch_gyr.show(5)"
      ],
      "metadata": {
        "id": "Q1grtYhycwq9"
      },
      "execution_count": null,
      "outputs": []
    },
    {
      "cell_type": "markdown",
      "source": [
        "#### Etapa 02\n",
        "\"Faça uma análise inicial dos dados: quais problemas você encontrou? Como você trataria\n",
        "tais problemas?\""
      ],
      "metadata": {
        "id": "MFxx3mcmY2Nj"
      }
    },
    {
      "cell_type": "markdown",
      "source": [
        "#### Etapa 03\n",
        "\n",
        "\"Crie uma tabela com informações sumarizadas de cada usuário, como: quantos registros\n",
        "tal usuário possui, quais modelos de aparelho cada usuário operou, etc.\""
      ],
      "metadata": {
        "id": "gOcOrRXyY-r0"
      }
    }
  ]
}