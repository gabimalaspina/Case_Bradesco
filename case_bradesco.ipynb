{
  "nbformat": 4,
  "nbformat_minor": 0,
  "metadata": {
    "colab": {
      "provenance": [],
      "collapsed_sections": [
        "-Rz3FJbHdEjD",
        "eAvTvvn6DQNY",
        "x4P6OgkcDk4p",
        "bdnAf6Z_DnBh",
        "IGgfWC6MMhqL",
        "N2KjwjMxMohK",
        "Yhr_peqgZFGo",
        "QNVsjEiaZNgX"
      ],
      "authorship_tag": "ABX9TyOv+18v4fFcxyF/o2aGP6S0",
      "include_colab_link": true
    },
    "kernelspec": {
      "name": "python3",
      "display_name": "Python 3"
    },
    "language_info": {
      "name": "python"
    }
  },
  "cells": [
    {
      "cell_type": "markdown",
      "metadata": {
        "id": "view-in-github",
        "colab_type": "text"
      },
      "source": [
        "<a href=\"https://colab.research.google.com/github/gabimalaspina/Case_Bradesco/blob/main/case_bradesco.ipynb\" target=\"_parent\"><img src=\"https://colab.research.google.com/assets/colab-badge.svg\" alt=\"Open In Colab\"/></a>"
      ]
    },
    {
      "cell_type": "markdown",
      "source": [
        "### **Case Bradesco - Processo seletivo Gabriela Malaspina**"
      ],
      "metadata": {
        "id": "ocXBjWTbc6IZ"
      }
    },
    {
      "cell_type": "markdown",
      "source": [
        "#### Etapa 1\n",
        "\n",
        "\"Carregue as bases de dados como DataFrames do PySpark. Especifique os formatos dos dados manualmente, não use a opção inferSchema = True.\""
      ],
      "metadata": {
        "id": "-Rz3FJbHdEjD"
      }
    },
    {
      "cell_type": "markdown",
      "source": [
        "\n",
        "##### **1. Configuração do ambiente**"
      ],
      "metadata": {
        "id": "eAvTvvn6DQNY"
      }
    },
    {
      "cell_type": "code",
      "execution_count": null,
      "metadata": {
        "id": "vkvgNsrI_eAr",
        "colab": {
          "base_uri": "https://localhost:8080/"
        },
        "outputId": "71e95be6-019f-4421-c251-b2f0ca492bfb"
      },
      "outputs": [
        {
          "output_type": "stream",
          "name": "stdout",
          "text": [
            "Collecting pyspark\n",
            "  Downloading pyspark-3.5.1.tar.gz (317.0 MB)\n",
            "\u001b[2K     \u001b[90m━━━━━━━━━━━━━━━━━━━━━━━━━━━━━━━━━━━━━━━━\u001b[0m \u001b[32m317.0/317.0 MB\u001b[0m \u001b[31m3.7 MB/s\u001b[0m eta \u001b[36m0:00:00\u001b[0m\n",
            "\u001b[?25h  Preparing metadata (setup.py) ... \u001b[?25l\u001b[?25hdone\n",
            "Requirement already satisfied: py4j==0.10.9.7 in /usr/local/lib/python3.10/dist-packages (from pyspark) (0.10.9.7)\n",
            "Building wheels for collected packages: pyspark\n",
            "  Building wheel for pyspark (setup.py) ... \u001b[?25l\u001b[?25hdone\n",
            "  Created wheel for pyspark: filename=pyspark-3.5.1-py2.py3-none-any.whl size=317488491 sha256=57efdfcc2f6839a604d8f80a1b34f2292e12335cd7918fa9bb25b6a227be7592\n",
            "  Stored in directory: /root/.cache/pip/wheels/80/1d/60/2c256ed38dddce2fdd93be545214a63e02fbd8d74fb0b7f3a6\n",
            "Successfully built pyspark\n",
            "Installing collected packages: pyspark\n",
            "Successfully installed pyspark-3.5.1\n"
          ]
        }
      ],
      "source": [
        "# Importação das bibliotecas e recursos\n",
        "\n",
        "# Bibliotecas e recursos do PySpark\n",
        "!pip install pyspark\n",
        "from pyspark.sql import SparkSession\n",
        "from pyspark.sql.types import StructType, StructField, IntegerType, FloatType, StringType, TimestampType\n",
        "from pyspark.sql.functions import to_timestamp\n",
        "\n",
        "# Biblioteca para gerenciamento dos diretórios\n",
        "import os\n",
        "from datetime import datetime\n",
        "\n",
        "# Biblioteca para criação da database\n",
        "import sqlite3"
      ]
    },
    {
      "cell_type": "code",
      "source": [
        "# URL para download do driver JDBC SQLite\n",
        "url = 'https://repo1.maven.org/maven2/org/xerial/sqlite-jdbc/3.36.0.3/sqlite-jdbc-3.36.0.3.jar'\n",
        "\n",
        "# Fazer o download do arquivo JAR\n",
        "!wget \"$url\""
      ],
      "metadata": {
        "colab": {
          "base_uri": "https://localhost:8080/"
        },
        "id": "xIglDVcy1DTQ",
        "outputId": "43a8292e-8d94-49bd-b7f4-1e2211bff5b1"
      },
      "execution_count": null,
      "outputs": [
        {
          "output_type": "stream",
          "name": "stdout",
          "text": [
            "--2024-03-21 13:13:12--  https://repo1.maven.org/maven2/org/xerial/sqlite-jdbc/3.36.0.3/sqlite-jdbc-3.36.0.3.jar\n",
            "Resolving repo1.maven.org (repo1.maven.org)... 199.232.192.209, 199.232.196.209, 2a04:4e42:4c::209, ...\n",
            "Connecting to repo1.maven.org (repo1.maven.org)|199.232.192.209|:443... connected.\n",
            "HTTP request sent, awaiting response... 200 OK\n",
            "Length: 9731064 (9.3M) [application/java-archive]\n",
            "Saving to: ‘sqlite-jdbc-3.36.0.3.jar’\n",
            "\n",
            "sqlite-jdbc-3.36.0. 100%[===================>]   9.28M  --.-KB/s    in 0.1s    \n",
            "\n",
            "2024-03-21 13:13:13 (96.2 MB/s) - ‘sqlite-jdbc-3.36.0.3.jar’ saved [9731064/9731064]\n",
            "\n"
          ]
        }
      ]
    },
    {
      "cell_type": "code",
      "source": [
        "# Criação da SparkSession\n",
        "spark = (\n",
        "    SparkSession.builder\n",
        "    .appName(\"dados_har\")\n",
        "    .config(\"spark.driver.extraClassPath\", \"/content/sqlite-jdbc-3.36.0.3.jar\")\n",
        "    .getOrCreate()\n",
        ")"
      ],
      "metadata": {
        "id": "lW9QnPWU1la6"
      },
      "execution_count": null,
      "outputs": []
    },
    {
      "cell_type": "markdown",
      "source": [
        "##### **2. Configuração de diretórios, download e extração**"
      ],
      "metadata": {
        "id": "x4P6OgkcDk4p"
      }
    },
    {
      "cell_type": "code",
      "source": [
        "# Criação de subpastas dentro da pasta \"content\" para simular as camadas \"raw\" e \"bronze\"\n",
        "\n",
        "raw = '/content/raw'\n",
        "os.mkdir(raw)\n",
        "\n",
        "bronze = '/content/bronze'\n",
        "os.mkdir(bronze)"
      ],
      "metadata": {
        "id": "KlZvjL1z_jMP"
      },
      "execution_count": null,
      "outputs": []
    },
    {
      "cell_type": "code",
      "source": [
        "# Download e extração do arquivo .zip na camada \"raw\" (dados brutos)\n",
        "\n",
        "# Link para download\n",
        "url='https://archive.ics.uci.edu/ml/machine-learning-databases/00344/Activity%20recognition%20exp.zip'\n",
        "\n",
        "# Mudança para a pasta \"raw\"\n",
        "os.chdir(raw)\n",
        "\n",
        "# Download do .zip com o nome \"activity_rec_exp.zip\" na camada \"raw\"\n",
        "!wget -O activity_recognition_exp.zip \"$url\"\n",
        "\n",
        "# Extração do conteúdo do .zip na camada \"raw\"\n",
        "!unzip -j -d activity_recognition_exp /content/raw/activity_recognition_exp.zip"
      ],
      "metadata": {
        "id": "00FIaLPz_pbt",
        "colab": {
          "base_uri": "https://localhost:8080/"
        },
        "outputId": "7f00e048-0511-41b7-e066-91535eab1862"
      },
      "execution_count": null,
      "outputs": [
        {
          "output_type": "stream",
          "name": "stdout",
          "text": [
            "--2024-03-21 13:13:21--  https://archive.ics.uci.edu/ml/machine-learning-databases/00344/Activity%20recognition%20exp.zip\n",
            "Resolving archive.ics.uci.edu (archive.ics.uci.edu)... 128.195.10.252\n",
            "Connecting to archive.ics.uci.edu (archive.ics.uci.edu)|128.195.10.252|:443... connected.\n",
            "HTTP request sent, awaiting response... 200 OK\n",
            "Length: unspecified\n",
            "Saving to: ‘activity_recognition_exp.zip’\n",
            "\n",
            "activity_recognitio     [   <=>              ] 741.13M  42.7MB/s    in 63s     \n",
            "\n",
            "2024-03-21 13:14:25 (11.7 MB/s) - ‘activity_recognition_exp.zip’ saved [777127275]\n",
            "\n",
            "Archive:  /content/raw/activity_recognition_exp.zip\n",
            "  inflating: activity_recognition_exp/.DS_Store  \n",
            "  inflating: activity_recognition_exp/._.DS_Store  \n",
            "  inflating: activity_recognition_exp/Phones_accelerometer.csv  \n",
            "  inflating: activity_recognition_exp/Phones_gyroscope.csv  \n",
            "  inflating: activity_recognition_exp/readme.txt  \n",
            "  inflating: activity_recognition_exp/._readme.txt  \n",
            "  inflating: activity_recognition_exp/Watch_accelerometer.csv  \n",
            "  inflating: activity_recognition_exp/Watch_gyroscope.csv  \n"
          ]
        }
      ]
    },
    {
      "cell_type": "markdown",
      "source": [
        "##### **3. Leitura dos arquivos .csv e configuração dos dataframes**"
      ],
      "metadata": {
        "id": "bdnAf6Z_DnBh"
      }
    },
    {
      "cell_type": "markdown",
      "source": [
        "Os 4 arquivos possuem a mesma estrutura de atributos:\n",
        "- Index > identificador da amostra (id): INT\n",
        "- Arrival_Time e Creation_Time > momento de chegada e criação das amostras: DATETIME / TIMESTAMP\n",
        "- x, y e z > representam leituras de acelerômetro/giroscópio: FLOAT\n",
        "- User > usuário: STRING\n",
        "- Model e Device > modelo e nome do aparelho: STRING\n",
        "- gt > \"groundtruth\" - referência de posição: STRING\n",
        "\n",
        "Dessa forma, pode-se utilizar a mesma tipagem para o schema em todos os datasets, assim como a formatação para as colunas de datas.\n"
      ],
      "metadata": {
        "id": "WNonuAsaNRI1"
      }
    },
    {
      "cell_type": "code",
      "source": [
        "# Definição do Schema a ser utilizado em todos os datasets\n",
        "\n",
        "schema = StructType([\n",
        "    StructField('Index', IntegerType(), True),\n",
        "    StructField('Arrival_Time', StringType(), True), # Será feita transformação para formato de data na sequência\n",
        "    StructField('Creation_Time', StringType(), True), # Será feita transformação para formato de data na sequência\n",
        "    StructField('x', FloatType(), True),\n",
        "    StructField('y', FloatType(), True),\n",
        "    StructField('z', FloatType(), True),\n",
        "    StructField('User', StringType(), True),\n",
        "    StructField('Model', StringType(), True),\n",
        "    StructField('Device', StringType(), True),\n",
        "    StructField('gt', StringType(), True)\n",
        "])"
      ],
      "metadata": {
        "id": "mwFs4w0pQAge"
      },
      "execution_count": null,
      "outputs": []
    },
    {
      "cell_type": "markdown",
      "source": [
        "###### Arquivo 01- Acelerômetro de celulares"
      ],
      "metadata": {
        "id": "IGgfWC6MMhqL"
      }
    },
    {
      "cell_type": "code",
      "source": [
        "caminho_01 = '/content/raw/activity_recognition_exp/Phones_accelerometer.csv'\n",
        "\n",
        "# Dataframe inicial\n",
        "phones_acc = spark.read.csv(caminho_01, header=True).show(5)"
      ],
      "metadata": {
        "colab": {
          "base_uri": "https://localhost:8080/"
        },
        "id": "lLFfSdh1D2XV",
        "outputId": "25e3c440-3c5f-4711-b7ad-83d787ad0c20"
      },
      "execution_count": null,
      "outputs": [
        {
          "output_type": "stream",
          "name": "stdout",
          "text": [
            "+-----+-------------+-------------------+------------------+------------------+--------+----+------+--------+-----+\n",
            "|Index| Arrival_Time|      Creation_Time|                 x|                 y|       z|User| Model|  Device|   gt|\n",
            "+-----+-------------+-------------------+------------------+------------------+--------+----+------+--------+-----+\n",
            "|    0|1424696633908|1424696631913248572|         -5.958191|         0.6880646|8.135345|   a|nexus4|nexus4_1|stand|\n",
            "|    1|1424696633909|1424696631918283972|          -5.95224|         0.6702118|8.136536|   a|nexus4|nexus4_1|stand|\n",
            "|    2|1424696633918|1424696631923288855|        -5.9950867|0.6535491999999999|8.204376|   a|nexus4|nexus4_1|stand|\n",
            "|    3|1424696633919|1424696631928385290|        -5.9427185|0.6761626999999999|8.128204|   a|nexus4|nexus4_1|stand|\n",
            "|    4|1424696633929|1424696631933420691|-5.991516000000001|        0.64164734|8.135345|   a|nexus4|nexus4_1|stand|\n",
            "+-----+-------------+-------------------+------------------+------------------+--------+----+------+--------+-----+\n",
            "only showing top 5 rows\n",
            "\n"
          ]
        }
      ]
    },
    {
      "cell_type": "code",
      "source": [
        "# Aplicação do schema e transformações das datas\n",
        "\n",
        "phones_acc = spark.read.csv(caminho_01, schema=schema, header=True)\n",
        "\n",
        "# Conversão de Arrival_Time (em milissegundos)\n",
        "phones_acc = phones_acc.withColumn(\"Arrival_Time\", (phones_acc[\"Arrival_Time\"] / 1000).cast(\"timestamp\"))\n",
        "\n",
        "# Conversão de Creation_Time (em nanossegundos)\n",
        "phones_acc = phones_acc.withColumn(\"Creation_Time\", (phones_acc[\"Creation_Time\"] / 1e9).cast(\"timestamp\"))"
      ],
      "metadata": {
        "id": "2K14G0skTgaX"
      },
      "execution_count": null,
      "outputs": []
    },
    {
      "cell_type": "code",
      "source": [
        "# Dataframe formatado\n",
        "phones_acc.show(5)"
      ],
      "metadata": {
        "colab": {
          "base_uri": "https://localhost:8080/"
        },
        "id": "tet4V2LyHxu0",
        "outputId": "7042a4c1-8be4-4aa0-fe14-2f18f7120cb1"
      },
      "execution_count": null,
      "outputs": [
        {
          "output_type": "stream",
          "name": "stdout",
          "text": [
            "+-----+--------------------+--------------------+----------+----------+--------+----+------+--------+-----+\n",
            "|Index|        Arrival_Time|       Creation_Time|         x|         y|       z|User| Model|  Device|   gt|\n",
            "+-----+--------------------+--------------------+----------+----------+--------+----+------+--------+-----+\n",
            "|    0|2015-02-23 13:03:...|2015-02-23 13:03:...| -5.958191| 0.6880646|8.135345|   a|nexus4|nexus4_1|stand|\n",
            "|    1|2015-02-23 13:03:...|2015-02-23 13:03:...|  -5.95224| 0.6702118|8.136536|   a|nexus4|nexus4_1|stand|\n",
            "|    2|2015-02-23 13:03:...|2015-02-23 13:03:...|-5.9950867| 0.6535492|8.204376|   a|nexus4|nexus4_1|stand|\n",
            "|    3|2015-02-23 13:03:...|2015-02-23 13:03:...|-5.9427185| 0.6761627|8.128204|   a|nexus4|nexus4_1|stand|\n",
            "|    4|2015-02-23 13:03:...|2015-02-23 13:03:...| -5.991516|0.64164734|8.135345|   a|nexus4|nexus4_1|stand|\n",
            "+-----+--------------------+--------------------+----------+----------+--------+----+------+--------+-----+\n",
            "only showing top 5 rows\n",
            "\n"
          ]
        }
      ]
    },
    {
      "cell_type": "code",
      "source": [
        "# Verificação do Schema estruturado\n",
        "phones_acc.printSchema()"
      ],
      "metadata": {
        "colab": {
          "base_uri": "https://localhost:8080/"
        },
        "id": "YEiNTRB_EUnF",
        "outputId": "f04d30bc-97c1-431e-d9fe-8c3e50adfb5b"
      },
      "execution_count": null,
      "outputs": [
        {
          "output_type": "stream",
          "name": "stdout",
          "text": [
            "root\n",
            " |-- Index: integer (nullable = true)\n",
            " |-- Arrival_Time: timestamp (nullable = true)\n",
            " |-- Creation_Time: timestamp (nullable = true)\n",
            " |-- x: float (nullable = true)\n",
            " |-- y: float (nullable = true)\n",
            " |-- z: float (nullable = true)\n",
            " |-- User: string (nullable = true)\n",
            " |-- Model: string (nullable = true)\n",
            " |-- Device: string (nullable = true)\n",
            " |-- gt: string (nullable = true)\n",
            "\n"
          ]
        }
      ]
    },
    {
      "cell_type": "markdown",
      "source": [
        "###### Arquivo 02- Giroscópio de celulares"
      ],
      "metadata": {
        "id": "N2KjwjMxMohK"
      }
    },
    {
      "cell_type": "code",
      "source": [
        "caminho_02 = '/content/raw/activity_recognition_exp/Phones_gyroscope.csv'\n",
        "\n",
        "# Dataframe inicial\n",
        "phones_gyr = spark.read.csv(caminho_02, header=True).show(5)"
      ],
      "metadata": {
        "colab": {
          "base_uri": "https://localhost:8080/"
        },
        "id": "2TtiQgG1MohL",
        "outputId": "2377b9ce-13f1-42f9-c05e-e67fd226fa08"
      },
      "execution_count": null,
      "outputs": [
        {
          "output_type": "stream",
          "name": "stdout",
          "text": [
            "+-----+-------------+-------------------+--------------------+--------------------+------------+----+------+--------+-----+\n",
            "|Index| Arrival_Time|      Creation_Time|                   x|                   y|           z|User| Model|  Device|   gt|\n",
            "+-----+-------------+-------------------+--------------------+--------------------+------------+----+------+--------+-----+\n",
            "|    0|1424696633909|1424696631914042029|         0.013748169|-0.00062561035000...|-0.023376465|   a|nexus4|nexus4_1|stand|\n",
            "|    1|1424696633909|1424696631919046912|0.014816283999999999|       -0.0016937256| -0.02230835|   a|nexus4|nexus4_1|stand|\n",
            "|    2|1424696633918|1424696631924051794|           0.0158844|       -0.0016937256|-0.021240234|   a|nexus4|nexus4_1|stand|\n",
            "|    3|1424696633919|1424696631929117712|         0.016952515|        -0.003829956| -0.02017212|   a|nexus4|nexus4_1|stand|\n",
            "|    4|1424696633928|1424696631934214148|           0.0158844|-0.00703430180000...| -0.02017212|   a|nexus4|nexus4_1|stand|\n",
            "+-----+-------------+-------------------+--------------------+--------------------+------------+----+------+--------+-----+\n",
            "only showing top 5 rows\n",
            "\n"
          ]
        }
      ]
    },
    {
      "cell_type": "code",
      "source": [
        "# Aplicação do schema e transformações previamente definidos e validados na etapa anterior\n",
        "\n",
        "phones_gyr = spark.read.csv(caminho_02, schema=schema, header=True)\n",
        "\n",
        "# Conversão de Arrival_Time (em milissegundos)\n",
        "phones_gyr = phones_gyr.withColumn(\"Arrival_Time\", (phones_gyr[\"Arrival_Time\"] / 1000).cast(\"timestamp\"))\n",
        "\n",
        "# Conversão de Creation_Time (em nanossegundos)\n",
        "phones_gyr = phones_gyr.withColumn(\"Creation_Time\", (phones_gyr[\"Creation_Time\"] / 1e9).cast(\"timestamp\"))"
      ],
      "metadata": {
        "id": "FP37N06lZEy4"
      },
      "execution_count": null,
      "outputs": []
    },
    {
      "cell_type": "code",
      "source": [
        "# Dataframe formatado\n",
        "phones_gyr.show(5)"
      ],
      "metadata": {
        "colab": {
          "base_uri": "https://localhost:8080/"
        },
        "outputId": "6e09b0ed-184a-46c9-c59f-7902ce7cd4af",
        "id": "-mn9iqxWaWt6"
      },
      "execution_count": null,
      "outputs": [
        {
          "output_type": "stream",
          "name": "stdout",
          "text": [
            "+-----+--------------------+--------------------+-----------+-------------+------------+----+------+--------+-----+\n",
            "|Index|        Arrival_Time|       Creation_Time|          x|            y|           z|User| Model|  Device|   gt|\n",
            "+-----+--------------------+--------------------+-----------+-------------+------------+----+------+--------+-----+\n",
            "|    0|2015-02-23 13:03:...|2015-02-23 13:03:...|0.013748169|-6.2561035E-4|-0.023376465|   a|nexus4|nexus4_1|stand|\n",
            "|    1|2015-02-23 13:03:...|2015-02-23 13:03:...|0.014816284|-0.0016937256| -0.02230835|   a|nexus4|nexus4_1|stand|\n",
            "|    2|2015-02-23 13:03:...|2015-02-23 13:03:...|  0.0158844|-0.0016937256|-0.021240234|   a|nexus4|nexus4_1|stand|\n",
            "|    3|2015-02-23 13:03:...|2015-02-23 13:03:...|0.016952515| -0.003829956| -0.02017212|   a|nexus4|nexus4_1|stand|\n",
            "|    4|2015-02-23 13:03:...|2015-02-23 13:03:...|  0.0158844|-0.0070343018| -0.02017212|   a|nexus4|nexus4_1|stand|\n",
            "+-----+--------------------+--------------------+-----------+-------------+------------+----+------+--------+-----+\n",
            "only showing top 5 rows\n",
            "\n"
          ]
        }
      ]
    },
    {
      "cell_type": "code",
      "source": [
        "# Verificação do Schema estruturado\n",
        "phones_gyr.printSchema()"
      ],
      "metadata": {
        "colab": {
          "base_uri": "https://localhost:8080/"
        },
        "outputId": "23a459f9-6191-427d-b34f-f0f1de622d9d",
        "id": "mrfQnOh8aWt7"
      },
      "execution_count": null,
      "outputs": [
        {
          "output_type": "stream",
          "name": "stdout",
          "text": [
            "root\n",
            " |-- Index: integer (nullable = true)\n",
            " |-- Arrival_Time: timestamp (nullable = true)\n",
            " |-- Creation_Time: timestamp (nullable = true)\n",
            " |-- x: float (nullable = true)\n",
            " |-- y: float (nullable = true)\n",
            " |-- z: float (nullable = true)\n",
            " |-- User: string (nullable = true)\n",
            " |-- Model: string (nullable = true)\n",
            " |-- Device: string (nullable = true)\n",
            " |-- gt: string (nullable = true)\n",
            "\n"
          ]
        }
      ]
    },
    {
      "cell_type": "markdown",
      "source": [
        "###### Arquivo 03- Acelerômetro de relógios"
      ],
      "metadata": {
        "id": "Yhr_peqgZFGo"
      }
    },
    {
      "cell_type": "code",
      "source": [
        "caminho_03 = '/content/raw/activity_recognition_exp/Watch_accelerometer.csv'\n",
        "\n",
        "# Dataframe inicial\n",
        "watch_acc = spark.read.csv(caminho_03, header=True).show(5)"
      ],
      "metadata": {
        "colab": {
          "base_uri": "https://localhost:8080/"
        },
        "id": "1dFK_YqkZFGp",
        "outputId": "0109f49f-c553-42e8-aac8-ec132f1d00c1"
      },
      "execution_count": null,
      "outputs": [
        {
          "output_type": "stream",
          "name": "stdout",
          "text": [
            "+-----+-------------+--------------+-----------+----------+-----------+----+-----+------+-----+\n",
            "|Index| Arrival_Time| Creation_Time|          x|         y|          z|User|Model|Device|   gt|\n",
            "+-----+-------------+--------------+-----------+----------+-----------+----+-----+------+-----+\n",
            "|    0|1424696638740|27920678471000| -0.5650316| -9.572019|-0.61411273|   a| gear|gear_1|stand|\n",
            "|    1|1424696638740|27920681910000|-0.83258367| -9.713276|-0.60693014|   a| gear|gear_1|stand|\n",
            "|    2|1424696638740|27920692014000| -1.0181342| -9.935339|-0.54408234|   a| gear|gear_1|stand|\n",
            "|    3|1424696638741|27920701983000| -1.2228385|-10.142437| -0.5662287|   a| gear|gear_1|stand|\n",
            "|    4|1424696638741|27920711906000| -1.5771804|-10.480618|-0.40282443|   a| gear|gear_1|stand|\n",
            "+-----+-------------+--------------+-----------+----------+-----------+----+-----+------+-----+\n",
            "only showing top 5 rows\n",
            "\n"
          ]
        }
      ]
    },
    {
      "cell_type": "code",
      "source": [
        "# Aplicação do schema e transformações previamente definidos e validados nas etapas anteriores\n",
        "\n",
        "watch_acc = spark.read.csv(caminho_03, schema=schema, header=True)\n",
        "\n",
        "# Conversão de Arrival_Time (em milissegundos)\n",
        "watch_acc = watch_acc.withColumn(\"Arrival_Time\", (watch_acc[\"Arrival_Time\"] / 1000).cast(\"timestamp\"))\n",
        "\n",
        "# Conversão de Creation_Time (em nanossegundos)\n",
        "watch_acc = watch_acc.withColumn(\"Creation_Time\", (watch_acc[\"Creation_Time\"] / 1e9).cast(\"timestamp\"))"
      ],
      "metadata": {
        "id": "ZtqwpNhzbGyG"
      },
      "execution_count": null,
      "outputs": []
    },
    {
      "cell_type": "code",
      "source": [
        "# Dataframe formatado\n",
        "watch_acc.show(5)"
      ],
      "metadata": {
        "colab": {
          "base_uri": "https://localhost:8080/"
        },
        "outputId": "025e59ef-e353-4015-896c-f4d4ac160e5c",
        "id": "S4FTeVNWbGyI"
      },
      "execution_count": null,
      "outputs": [
        {
          "output_type": "stream",
          "name": "stdout",
          "text": [
            "+-----+--------------------+--------------------+-----------+----------+-----------+----+-----+------+-----+\n",
            "|Index|        Arrival_Time|       Creation_Time|          x|         y|          z|User|Model|Device|   gt|\n",
            "+-----+--------------------+--------------------+-----------+----------+-----------+----+-----+------+-----+\n",
            "|    0|2015-02-23 13:03:...|1970-01-01 07:45:...| -0.5650316| -9.572019|-0.61411273|   a| gear|gear_1|stand|\n",
            "|    1|2015-02-23 13:03:...|1970-01-01 07:45:...|-0.83258367| -9.713276|-0.60693014|   a| gear|gear_1|stand|\n",
            "|    2|2015-02-23 13:03:...|1970-01-01 07:45:...| -1.0181342| -9.935339|-0.54408234|   a| gear|gear_1|stand|\n",
            "|    3|2015-02-23 13:03:...|1970-01-01 07:45:...| -1.2228385|-10.142437| -0.5662287|   a| gear|gear_1|stand|\n",
            "|    4|2015-02-23 13:03:...|1970-01-01 07:45:...| -1.5771804|-10.480618|-0.40282443|   a| gear|gear_1|stand|\n",
            "+-----+--------------------+--------------------+-----------+----------+-----------+----+-----+------+-----+\n",
            "only showing top 5 rows\n",
            "\n"
          ]
        }
      ]
    },
    {
      "cell_type": "code",
      "source": [
        "# Verificação do Schema estruturado\n",
        "watch_acc.printSchema()"
      ],
      "metadata": {
        "colab": {
          "base_uri": "https://localhost:8080/"
        },
        "outputId": "87375e62-b22a-44a6-ec94-c0d177677932",
        "id": "DO5tw5zFbGyJ"
      },
      "execution_count": null,
      "outputs": [
        {
          "output_type": "stream",
          "name": "stdout",
          "text": [
            "root\n",
            " |-- Index: integer (nullable = true)\n",
            " |-- Arrival_Time: timestamp (nullable = true)\n",
            " |-- Creation_Time: timestamp (nullable = true)\n",
            " |-- x: float (nullable = true)\n",
            " |-- y: float (nullable = true)\n",
            " |-- z: float (nullable = true)\n",
            " |-- User: string (nullable = true)\n",
            " |-- Model: string (nullable = true)\n",
            " |-- Device: string (nullable = true)\n",
            " |-- gt: string (nullable = true)\n",
            "\n"
          ]
        }
      ]
    },
    {
      "cell_type": "markdown",
      "source": [
        "###### Arquivo 04- Giroscópio de relógios"
      ],
      "metadata": {
        "id": "QNVsjEiaZNgX"
      }
    },
    {
      "cell_type": "code",
      "source": [
        "caminho_04 = '/content/raw/activity_recognition_exp/Watch_gyroscope.csv'\n",
        "\n",
        "# Dataframe inicial\n",
        "watch_gyr = spark.read.csv(caminho_04, header=True).show(5)"
      ],
      "metadata": {
        "colab": {
          "base_uri": "https://localhost:8080/"
        },
        "id": "qgRF7GUmZNgZ",
        "outputId": "08b9c54b-c24a-47eb-90b4-45c0de8af9f2"
      },
      "execution_count": null,
      "outputs": [
        {
          "output_type": "stream",
          "name": "stdout",
          "text": [
            "+-----+-------------+--------------+-----------+------------+------------+----+-----+------+-----+\n",
            "|Index| Arrival_Time| Creation_Time|          x|           y|           z|User|Model|Device|   gt|\n",
            "+-----+-------------+--------------+-----------+------------+------------+----+-----+------+-----+\n",
            "|    0|1424696638743|27920678496000|-0.16218652|-0.022104237|  0.05965481|   a| gear|gear_1|stand|\n",
            "|    1|1424696638743|27920681926000|-0.18322548| -0.06178534| 0.012516857|   a| gear|gear_1|stand|\n",
            "|    2|1424696638743|27920692031000|-0.18082865| -0.10865697|-0.036485307|   a| gear|gear_1|stand|\n",
            "|    3|1424696638743|27920701997000|-0.14780544| -0.15792546| -0.09853696|   a| gear|gear_1|stand|\n",
            "|    7|1424696638744|27920743068000| 0.18216023| -0.32357407| -0.27723506|   a| gear|gear_1|stand|\n",
            "+-----+-------------+--------------+-----------+------------+------------+----+-----+------+-----+\n",
            "only showing top 5 rows\n",
            "\n"
          ]
        }
      ]
    },
    {
      "cell_type": "code",
      "source": [
        "# Aplicação do schema e transformações previamente definidos e validados nas etapas anteriores\n",
        "\n",
        "watch_gyr = spark.read.csv(caminho_02, schema=schema, header=True)\n",
        "\n",
        "# Conversão de Arrival_Time (em milissegundos)\n",
        "watch_gyr = watch_gyr.withColumn(\"Arrival_Time\", (watch_gyr[\"Arrival_Time\"] / 1000).cast(\"timestamp\"))\n",
        "\n",
        "# Conversão de Creation_Time (em nanossegundos)\n",
        "watch_gyr = watch_gyr.withColumn(\"Creation_Time\", (watch_gyr[\"Creation_Time\"] / 1e9).cast(\"timestamp\"))"
      ],
      "metadata": {
        "id": "ip5X_TJtboPy"
      },
      "execution_count": null,
      "outputs": []
    },
    {
      "cell_type": "code",
      "source": [
        "# Dataframe formatado\n",
        "watch_gyr.show(5)"
      ],
      "metadata": {
        "colab": {
          "base_uri": "https://localhost:8080/"
        },
        "outputId": "c69eebcc-8609-4357-cea9-cf915e738e0e",
        "id": "yW8E7XSUboPz"
      },
      "execution_count": null,
      "outputs": [
        {
          "output_type": "stream",
          "name": "stdout",
          "text": [
            "+-----+--------------------+--------------------+-----------+-------------+------------+----+------+--------+-----+\n",
            "|Index|        Arrival_Time|       Creation_Time|          x|            y|           z|User| Model|  Device|   gt|\n",
            "+-----+--------------------+--------------------+-----------+-------------+------------+----+------+--------+-----+\n",
            "|    0|2015-02-23 13:03:...|2015-02-23 13:03:...|0.013748169|-6.2561035E-4|-0.023376465|   a|nexus4|nexus4_1|stand|\n",
            "|    1|2015-02-23 13:03:...|2015-02-23 13:03:...|0.014816284|-0.0016937256| -0.02230835|   a|nexus4|nexus4_1|stand|\n",
            "|    2|2015-02-23 13:03:...|2015-02-23 13:03:...|  0.0158844|-0.0016937256|-0.021240234|   a|nexus4|nexus4_1|stand|\n",
            "|    3|2015-02-23 13:03:...|2015-02-23 13:03:...|0.016952515| -0.003829956| -0.02017212|   a|nexus4|nexus4_1|stand|\n",
            "|    4|2015-02-23 13:03:...|2015-02-23 13:03:...|  0.0158844|-0.0070343018| -0.02017212|   a|nexus4|nexus4_1|stand|\n",
            "+-----+--------------------+--------------------+-----------+-------------+------------+----+------+--------+-----+\n",
            "only showing top 5 rows\n",
            "\n"
          ]
        }
      ]
    },
    {
      "cell_type": "code",
      "source": [],
      "metadata": {
        "id": "T91wncJVvlFp"
      },
      "execution_count": null,
      "outputs": []
    },
    {
      "cell_type": "code",
      "source": [
        "# Verificação do Schema estruturado\n",
        "watch_gyr.printSchema()"
      ],
      "metadata": {
        "colab": {
          "base_uri": "https://localhost:8080/"
        },
        "outputId": "10615f46-1b67-443d-c5cc-430a84680ad2",
        "id": "vaL76izUboPz"
      },
      "execution_count": null,
      "outputs": [
        {
          "output_type": "stream",
          "name": "stdout",
          "text": [
            "root\n",
            " |-- Index: integer (nullable = true)\n",
            " |-- Arrival_Time: timestamp (nullable = true)\n",
            " |-- Creation_Time: timestamp (nullable = true)\n",
            " |-- x: float (nullable = true)\n",
            " |-- y: float (nullable = true)\n",
            " |-- z: float (nullable = true)\n",
            " |-- User: string (nullable = true)\n",
            " |-- Model: string (nullable = true)\n",
            " |-- Device: string (nullable = true)\n",
            " |-- gt: string (nullable = true)\n",
            "\n"
          ]
        }
      ]
    },
    {
      "cell_type": "markdown",
      "source": [
        "##### **4. Escrita dos daframes em arquivos parquet**"
      ],
      "metadata": {
        "id": "bclQKg2Ho4er"
      }
    },
    {
      "cell_type": "markdown",
      "source": [
        "Para preservar as transformações realizadas, e otimizar a análise posterior, os dados serão escrito no formato .parquet."
      ],
      "metadata": {
        "id": "0R7ZrEuspDWU"
      }
    },
    {
      "cell_type": "code",
      "source": [
        "phones_acc.show(5)"
      ],
      "metadata": {
        "colab": {
          "base_uri": "https://localhost:8080/"
        },
        "id": "Y6MLNB5Z8E1Z",
        "outputId": "ce0e770e-0332-44d3-b7d6-1e86d5dc2d5f"
      },
      "execution_count": null,
      "outputs": [
        {
          "output_type": "stream",
          "name": "stdout",
          "text": [
            "+-----+--------------------+--------------------+----------+----------+--------+----+------+--------+-----+\n",
            "|Index|        Arrival_Time|       Creation_Time|         x|         y|       z|User| Model|  Device|   gt|\n",
            "+-----+--------------------+--------------------+----------+----------+--------+----+------+--------+-----+\n",
            "|    0|2015-02-23 13:03:...|2015-02-23 13:03:...| -5.958191| 0.6880646|8.135345|   a|nexus4|nexus4_1|stand|\n",
            "|    1|2015-02-23 13:03:...|2015-02-23 13:03:...|  -5.95224| 0.6702118|8.136536|   a|nexus4|nexus4_1|stand|\n",
            "|    2|2015-02-23 13:03:...|2015-02-23 13:03:...|-5.9950867| 0.6535492|8.204376|   a|nexus4|nexus4_1|stand|\n",
            "|    3|2015-02-23 13:03:...|2015-02-23 13:03:...|-5.9427185| 0.6761627|8.128204|   a|nexus4|nexus4_1|stand|\n",
            "|    4|2015-02-23 13:03:...|2015-02-23 13:03:...| -5.991516|0.64164734|8.135345|   a|nexus4|nexus4_1|stand|\n",
            "+-----+--------------------+--------------------+----------+----------+--------+----+------+--------+-----+\n",
            "only showing top 5 rows\n",
            "\n"
          ]
        }
      ]
    },
    {
      "cell_type": "code",
      "source": [
        "# Escrita dos dataframes no formato .parquet e armazenamento na camada \"bronze\"\n",
        "\n",
        "phones_acc.write.save(\"/content/bronze/phones_acc.parquet\", format=\"parquet\", mode=\"overwrite\")\n",
        "phones_gyr.write.save(\"/content/bronze/phones_gyr.parquet\", format=\"parquet\", mode=\"overwrite\")\n",
        "watch_acc.write.save(\"/content/bronze/watch_acc.parquet\", format=\"parquet\", mode=\"overwrite\")\n",
        "watch_gyr.write.save(\"/content/bronze/watch_gyr.parquet\", format=\"parquet\", mode=\"overwrite\")\n"
      ],
      "metadata": {
        "id": "Dz3PTUz-pUjZ"
      },
      "execution_count": null,
      "outputs": []
    },
    {
      "cell_type": "code",
      "source": [
        "# Leitura de um arquivo .parquet, para verificar se as informações foram armazenadas corretamente na escrita\n",
        "\n",
        "df = (\n",
        "    spark\n",
        "    .read\n",
        "    .option('format', 'parquet')\n",
        "    .option('header', 'true')\n",
        "    .load('/content/bronze/phones_acc.parquet')\n",
        ")\n",
        "\n",
        "df.show(5)"
      ],
      "metadata": {
        "colab": {
          "base_uri": "https://localhost:8080/"
        },
        "id": "IWzVm_AytZUu",
        "outputId": "501cd052-7fda-4afe-91b9-301d19c9cd65"
      },
      "execution_count": null,
      "outputs": [
        {
          "output_type": "stream",
          "name": "stdout",
          "text": [
            "+------+--------------------+--------------------+--------+--------+--------+----+----------+------------+----+\n",
            "| Index|        Arrival_Time|       Creation_Time|       x|       y|       z|User|     Model|      Device|  gt|\n",
            "+------+--------------------+--------------------+--------+--------+--------+----+----------+------------+----+\n",
            "|107066|2015-02-23 13:34:...|1970-01-01 03:23:...|5.669399|0.153227|8.887166|   a|samsungold|samsungold_2|bike|\n",
            "|107067|2015-02-23 13:34:...|1970-01-01 03:23:...|5.822626|0.306454|8.733939|   a|samsungold|samsungold_2|bike|\n",
            "|107068|2015-02-23 13:34:...|1970-01-01 03:23:...|5.975853|0.153227|8.580712|   a|samsungold|samsungold_2|bike|\n",
            "|107069|2015-02-23 13:34:...|1970-01-01 03:23:...| 6.12908|0.153227|8.733939|   a|samsungold|samsungold_2|bike|\n",
            "|107070|2015-02-23 13:34:...|1970-01-01 03:23:...| 6.12908|0.153227|8.887166|   a|samsungold|samsungold_2|bike|\n",
            "+------+--------------------+--------------------+--------+--------+--------+----+----------+------------+----+\n",
            "only showing top 5 rows\n",
            "\n"
          ]
        }
      ]
    },
    {
      "cell_type": "code",
      "source": [
        "# Leitura de todos os arquivos e conversão em dataframe, para uso nas etapas posteriores\n",
        "\n",
        "phones_acc_parquet = (\n",
        "    spark\n",
        "    .read\n",
        "    .option('format', 'parquet')\n",
        "    .option('header', 'true')\n",
        "    .load('/content/bronze/phones_acc.parquet')\n",
        ")\n",
        "\n",
        "phones_gyr_parquet = (\n",
        "    spark\n",
        "    .read\n",
        "    .option('format', 'parquet')\n",
        "    .option('header', 'true')\n",
        "    .load('/content/bronze/phones_gyr.parquet')\n",
        ")\n",
        "\n",
        "watch_acc_parquet = (\n",
        "    spark\n",
        "    .read\n",
        "    .option('format', 'parquet')\n",
        "    .option('header', 'true')\n",
        "    .load('/content/bronze/watch_acc.parquet')\n",
        ")\n",
        "\n",
        "watch_gyr_parquet = (\n",
        "    spark\n",
        "    .read\n",
        "    .option('format', 'parquet')\n",
        "    .option('header', 'true')\n",
        "    .load('/content/bronze/watch_gyr.parquet')\n",
        ")"
      ],
      "metadata": {
        "id": "FEhkbeIF4UFT"
      },
      "execution_count": null,
      "outputs": []
    },
    {
      "cell_type": "markdown",
      "source": [
        "##### **Resultado final etapa 1**"
      ],
      "metadata": {
        "id": "EUNLTQN4b5EV"
      }
    },
    {
      "cell_type": "markdown",
      "source": [
        "Dataframes PySpark com schemas formatados manualmente, com base na documentação."
      ],
      "metadata": {
        "id": "wJaZa7IVcQTG"
      }
    },
    {
      "cell_type": "code",
      "source": [
        "# Acelerômetro de celulares\n",
        "phones_acc.show(5)\n",
        "# Giroscópio de celulares\n",
        "phones_gyr.show(5)\n",
        "# Acelerômetro de relógios\n",
        "watch_acc.show(5)\n",
        "# Giroscópio de relógios\n",
        "watch_gyr.show(5)"
      ],
      "metadata": {
        "colab": {
          "base_uri": "https://localhost:8080/"
        },
        "id": "aAWvXAb7cPyy",
        "outputId": "bc4d4d37-cb89-4ce0-b7f6-c354eac1d1fb"
      },
      "execution_count": null,
      "outputs": [
        {
          "output_type": "stream",
          "name": "stdout",
          "text": [
            "+-----+--------------------+--------------------+----------+----------+--------+----+------+--------+-----+\n",
            "|Index|        Arrival_Time|       Creation_Time|         x|         y|       z|User| Model|  Device|   gt|\n",
            "+-----+--------------------+--------------------+----------+----------+--------+----+------+--------+-----+\n",
            "|    0|2015-02-23 13:03:...|2015-02-23 13:03:...| -5.958191| 0.6880646|8.135345|   a|nexus4|nexus4_1|stand|\n",
            "|    1|2015-02-23 13:03:...|2015-02-23 13:03:...|  -5.95224| 0.6702118|8.136536|   a|nexus4|nexus4_1|stand|\n",
            "|    2|2015-02-23 13:03:...|2015-02-23 13:03:...|-5.9950867| 0.6535492|8.204376|   a|nexus4|nexus4_1|stand|\n",
            "|    3|2015-02-23 13:03:...|2015-02-23 13:03:...|-5.9427185| 0.6761627|8.128204|   a|nexus4|nexus4_1|stand|\n",
            "|    4|2015-02-23 13:03:...|2015-02-23 13:03:...| -5.991516|0.64164734|8.135345|   a|nexus4|nexus4_1|stand|\n",
            "+-----+--------------------+--------------------+----------+----------+--------+----+------+--------+-----+\n",
            "only showing top 5 rows\n",
            "\n",
            "+-----+--------------------+--------------------+-----------+-------------+------------+----+------+--------+-----+\n",
            "|Index|        Arrival_Time|       Creation_Time|          x|            y|           z|User| Model|  Device|   gt|\n",
            "+-----+--------------------+--------------------+-----------+-------------+------------+----+------+--------+-----+\n",
            "|    0|2015-02-23 13:03:...|2015-02-23 13:03:...|0.013748169|-6.2561035E-4|-0.023376465|   a|nexus4|nexus4_1|stand|\n",
            "|    1|2015-02-23 13:03:...|2015-02-23 13:03:...|0.014816284|-0.0016937256| -0.02230835|   a|nexus4|nexus4_1|stand|\n",
            "|    2|2015-02-23 13:03:...|2015-02-23 13:03:...|  0.0158844|-0.0016937256|-0.021240234|   a|nexus4|nexus4_1|stand|\n",
            "|    3|2015-02-23 13:03:...|2015-02-23 13:03:...|0.016952515| -0.003829956| -0.02017212|   a|nexus4|nexus4_1|stand|\n",
            "|    4|2015-02-23 13:03:...|2015-02-23 13:03:...|  0.0158844|-0.0070343018| -0.02017212|   a|nexus4|nexus4_1|stand|\n",
            "+-----+--------------------+--------------------+-----------+-------------+------------+----+------+--------+-----+\n",
            "only showing top 5 rows\n",
            "\n",
            "+-----+--------------------+--------------------+-----------+----------+-----------+----+-----+------+-----+\n",
            "|Index|        Arrival_Time|       Creation_Time|          x|         y|          z|User|Model|Device|   gt|\n",
            "+-----+--------------------+--------------------+-----------+----------+-----------+----+-----+------+-----+\n",
            "|    0|2015-02-23 13:03:...|1970-01-01 07:45:...| -0.5650316| -9.572019|-0.61411273|   a| gear|gear_1|stand|\n",
            "|    1|2015-02-23 13:03:...|1970-01-01 07:45:...|-0.83258367| -9.713276|-0.60693014|   a| gear|gear_1|stand|\n",
            "|    2|2015-02-23 13:03:...|1970-01-01 07:45:...| -1.0181342| -9.935339|-0.54408234|   a| gear|gear_1|stand|\n",
            "|    3|2015-02-23 13:03:...|1970-01-01 07:45:...| -1.2228385|-10.142437| -0.5662287|   a| gear|gear_1|stand|\n",
            "|    4|2015-02-23 13:03:...|1970-01-01 07:45:...| -1.5771804|-10.480618|-0.40282443|   a| gear|gear_1|stand|\n",
            "+-----+--------------------+--------------------+-----------+----------+-----------+----+-----+------+-----+\n",
            "only showing top 5 rows\n",
            "\n",
            "+-----+--------------------+--------------------+-----------+-------------+------------+----+------+--------+-----+\n",
            "|Index|        Arrival_Time|       Creation_Time|          x|            y|           z|User| Model|  Device|   gt|\n",
            "+-----+--------------------+--------------------+-----------+-------------+------------+----+------+--------+-----+\n",
            "|    0|2015-02-23 13:03:...|2015-02-23 13:03:...|0.013748169|-6.2561035E-4|-0.023376465|   a|nexus4|nexus4_1|stand|\n",
            "|    1|2015-02-23 13:03:...|2015-02-23 13:03:...|0.014816284|-0.0016937256| -0.02230835|   a|nexus4|nexus4_1|stand|\n",
            "|    2|2015-02-23 13:03:...|2015-02-23 13:03:...|  0.0158844|-0.0016937256|-0.021240234|   a|nexus4|nexus4_1|stand|\n",
            "|    3|2015-02-23 13:03:...|2015-02-23 13:03:...|0.016952515| -0.003829956| -0.02017212|   a|nexus4|nexus4_1|stand|\n",
            "|    4|2015-02-23 13:03:...|2015-02-23 13:03:...|  0.0158844|-0.0070343018| -0.02017212|   a|nexus4|nexus4_1|stand|\n",
            "+-----+--------------------+--------------------+-----------+-------------+------------+----+------+--------+-----+\n",
            "only showing top 5 rows\n",
            "\n"
          ]
        }
      ]
    },
    {
      "cell_type": "markdown",
      "source": [
        "#### Etapa 02\n",
        "\"Faça uma análise inicial dos dados: quais problemas você encontrou? Como você trataria\n",
        "tais problemas?\""
      ],
      "metadata": {
        "id": "MFxx3mcmY2Nj"
      }
    },
    {
      "cell_type": "markdown",
      "source": [
        "\n",
        "O conjunto de dados em questão, Heterogeneity Human Activity Recognition (HHAR), é um conjunto de dados projetado para benchmarking de algoritmos de reconhecimento de atividade humana. Os registros são compostos por leituras de sensores de movimento (acelerômetros e giroscópios) presentes em smartphones e smartwatches selecionados.\n",
        "\n",
        "A partir da análise inicial dos dados, alguns problemas potenciais podem ser identificados:\n",
        "- Compreensão do assunto e interpretação dos resultados;\n",
        "- Volumetria dos dados;\n",
        "- Dados faltantes;\n",
        "- Qualidade dos dados;\n",
        "\n",
        "\n",
        "\n",
        "\n"
      ],
      "metadata": {
        "id": "nBZYS7eLGuZ_"
      }
    },
    {
      "cell_type": "markdown",
      "source": [
        "##### Análises iniciais"
      ],
      "metadata": {
        "id": "ExdU0aqIVPio"
      }
    },
    {
      "cell_type": "code",
      "source": [
        "# Volumetria - Quantidade de registros em cada dataframe\n",
        "\n",
        "# Acelerômetro de celulares\n",
        "vol1 = phones_acc_parquet.count()\n",
        "print(f'Quantidade de linhas \"Acelerômetro de celulares\": {vol1}')\n",
        "\n",
        "# Giroscópio de celulares\n",
        "vol2 = phones_gyr_parquet.count()\n",
        "print(f'Quantidade de linhas \"Giroscópio de celulares\": {vol2}')\n",
        "\n",
        "# Acelerômetro de relógios\n",
        "vol3 = watch_acc_parquet.count()\n",
        "print(f'Quantidade de linhas \"Acelerômetro de relógios\": {vol3}')\n",
        "\n",
        "# Giroscópio de relógios\n",
        "vol4 = watch_gyr_parquet.count()\n",
        "print(f'Quantidade de linhas \"Giroscópio de relógios\": {vol4}')"
      ],
      "metadata": {
        "colab": {
          "base_uri": "https://localhost:8080/"
        },
        "id": "9CXSgdgJ6hli",
        "outputId": "792591be-9f53-412e-ba8d-007eeed6c683"
      },
      "execution_count": null,
      "outputs": [
        {
          "output_type": "stream",
          "name": "stdout",
          "text": [
            "Quantidade de linhas \"Acelerômetro de celulares\": 13062475\n",
            "Quantidade de linhas \"Giroscópio de celulares\": 13932632\n",
            "Quantidade de linhas \"Acelerômetro de relógios\": 3540962\n",
            "Quantidade de linhas \"Giroscópio de relógios\": 13932632\n"
          ]
        }
      ]
    },
    {
      "cell_type": "code",
      "source": [
        "# Contagem de valores nulos por coluna\n",
        "\n",
        "from pyspark.sql.functions import col, sum\n",
        "\n",
        "# Acelerômetro de celulares\n",
        "null_counts1 = phones_acc_parquet.select([sum(col(c).isNull().cast(\"int\")).alias(c) for c in df.columns])\n",
        "null_counts1.show()\n",
        "# Giroscópio de celulares\n",
        "null_counts2 = phones_gyr_parquet.select([sum(col(c).isNull().cast(\"int\")).alias(c) for c in df.columns])\n",
        "null_counts2.show()\n",
        "# Acelerômetro de relógios\n",
        "null_counts3 = watch_acc_parquet.select([sum(col(c).isNull().cast(\"int\")).alias(c) for c in df.columns])\n",
        "null_counts3.show()\n",
        "# Giroscópio de relógios\n",
        "null_counts4 = watch_gyr_parquet.select([sum(col(c).isNull().cast(\"int\")).alias(c) for c in df.columns])\n",
        "null_counts4.show()\n"
      ],
      "metadata": {
        "colab": {
          "base_uri": "https://localhost:8080/"
        },
        "id": "3-Rxm0W5QFGX",
        "outputId": "5887bb8b-a81c-4f9d-ab5b-f33c9d5d9490"
      },
      "execution_count": null,
      "outputs": [
        {
          "output_type": "stream",
          "name": "stdout",
          "text": [
            "+-----+------------+-------------+---+---+---+----+-----+------+---+\n",
            "|Index|Arrival_Time|Creation_Time|  x|  y|  z|User|Model|Device| gt|\n",
            "+-----+------------+-------------+---+---+---+----+-----+------+---+\n",
            "|    0|           0|            0|  0|  0|  0|   0|    0|     0|  0|\n",
            "+-----+------------+-------------+---+---+---+----+-----+------+---+\n",
            "\n",
            "+-----+------------+-------------+---+---+---+----+-----+------+---+\n",
            "|Index|Arrival_Time|Creation_Time|  x|  y|  z|User|Model|Device| gt|\n",
            "+-----+------------+-------------+---+---+---+----+-----+------+---+\n",
            "|    0|           0|            0|  0|  0|  0|   0|    0|     0|  0|\n",
            "+-----+------------+-------------+---+---+---+----+-----+------+---+\n",
            "\n",
            "+-----+------------+-------------+---+---+---+----+-----+------+---+\n",
            "|Index|Arrival_Time|Creation_Time|  x|  y|  z|User|Model|Device| gt|\n",
            "+-----+------------+-------------+---+---+---+----+-----+------+---+\n",
            "|    0|           0|            0|  0|  0|  0|   0|    0|     0|  0|\n",
            "+-----+------------+-------------+---+---+---+----+-----+------+---+\n",
            "\n",
            "+-----+------------+-------------+---+---+---+----+-----+------+---+\n",
            "|Index|Arrival_Time|Creation_Time|  x|  y|  z|User|Model|Device| gt|\n",
            "+-----+------------+-------------+---+---+---+----+-----+------+---+\n",
            "|    0|           0|            0|  0|  0|  0|   0|    0|     0|  0|\n",
            "+-----+------------+-------------+---+---+---+----+-----+------+---+\n",
            "\n"
          ]
        }
      ]
    },
    {
      "cell_type": "markdown",
      "source": [
        "#### Etapa 03\n",
        "\n",
        "\"Crie uma tabela com informações sumarizadas de cada usuário, como: quantos registros\n",
        "tal usuário possui, quais modelos de aparelho cada usuário operou, etc.\""
      ],
      "metadata": {
        "id": "gOcOrRXyY-r0"
      }
    },
    {
      "cell_type": "markdown",
      "source": [
        "Para executar essa etapa, serão utilizados como fonte os arquivos .parquet, para otimização do processamento.\n",
        "\n",
        "Primeiro, será feita a leitura dos arquivos .parquet e criação de views temporárias, para utilização do Spark.SQL"
      ],
      "metadata": {
        "id": "yGOJ_J6BPfBT"
      }
    },
    {
      "cell_type": "code",
      "source": [
        "# Passo 1. Criação das views temporárias de cada dataframe obtido na Etapa 1 - phones_acc, phones_gyr, watch_acc e watch_gyr\n",
        "\n",
        "# (obs: como a leitura dos aquivos .parquet já foi feita na etapa 1, vou utilizar os df já criados para criar as views)\n",
        "\n",
        "# Views dos dados de celulares\n",
        "phones_acc_parquet.createOrReplaceTempView('view_phones_acc')\n",
        "phones_gyr_parquet.createOrReplaceTempView('view_phones_gyr')\n",
        "\n",
        "# Views dos dados de relógios\n",
        "watch_acc_parquet.createOrReplaceTempView('view_watch_acc')\n",
        "watch_gyr_parquet.createOrReplaceTempView('view_watch_gyr')"
      ],
      "metadata": {
        "id": "wY2xb7chSMsl"
      },
      "execution_count": null,
      "outputs": []
    },
    {
      "cell_type": "code",
      "source": [
        "# Passo 2. Seleção das colunas que irão para a tabela unificada\n",
        "\n",
        "# Selecionar apenas as colunas necessárias antes de unir os DataFrames\n",
        "phones_acc_temp = phones_acc_parquet.select('Index', 'User', 'Model', 'Device', 'gt')\n",
        "phones_gyr_temp = phones_acc_parquet.select('Index', 'User', 'Model', 'Device', 'gt')\n",
        "watch_acc_temp = phones_acc_parquet.select('Index', 'User', 'Model', 'Device', 'gt')\n",
        "watch_gyr_temp = phones_acc_parquet.select('Index', 'User', 'Model', 'Device', 'gt')"
      ],
      "metadata": {
        "id": "jgS1kzOaOSdk"
      },
      "execution_count": null,
      "outputs": []
    },
    {
      "cell_type": "code",
      "source": [
        "# Passo 3. Criação de uma coluna 'Source' para identificar a origem de cada DataFrame, preenchendo com os nomes especificados\n",
        "\n",
        "from pyspark.sql.functions import lit\n",
        "\n",
        "phones_acc_temp = phones_acc_temp.withColumn('Source', lit('phones_acc'))\n",
        "phones_gyr_temp = phones_gyr_temp.withColumn('Source', lit('phones_gyr'))\n",
        "watch_acc_temp = watch_acc_temp.withColumn('Source', lit('watch_acc'))\n",
        "watch_gyr_temp = watch_gyr_temp.withColumn('Source', lit('watch_gyr'))"
      ],
      "metadata": {
        "id": "YdY95416QFu0"
      },
      "execution_count": null,
      "outputs": []
    },
    {
      "cell_type": "code",
      "source": [
        "# Passo 4. Junção dos dados\n",
        "\n",
        "user_database = phones_acc_temp.union(phones_gyr_temp).union(watch_acc_temp).union(watch_gyr_temp)\n",
        "\n",
        "# Criação de tabela temporária para usar Spark SQL\n",
        "\n",
        "user_database.createOrReplaceTempView('view_user_database')"
      ],
      "metadata": {
        "id": "L2KYYoFKQVtR"
      },
      "execution_count": null,
      "outputs": []
    },
    {
      "cell_type": "code",
      "source": [
        "user_database.count()"
      ],
      "metadata": {
        "colab": {
          "base_uri": "https://localhost:8080/"
        },
        "id": "lqmA1dm0Qgn5",
        "outputId": "76658de9-228d-42e2-b674-f0154852a324"
      },
      "execution_count": null,
      "outputs": [
        {
          "output_type": "execute_result",
          "data": {
            "text/plain": [
              "52249900"
            ]
          },
          "metadata": {},
          "execution_count": 34
        }
      ]
    },
    {
      "cell_type": "code",
      "source": [
        "user_database.show(5)"
      ],
      "metadata": {
        "colab": {
          "base_uri": "https://localhost:8080/"
        },
        "id": "aTImkrZeQsUC",
        "outputId": "97ea1f3b-3092-4f45-9b33-ca9d0e6e301e"
      },
      "execution_count": null,
      "outputs": [
        {
          "output_type": "stream",
          "name": "stdout",
          "text": [
            "+------+----+----------+------------+----+----------+\n",
            "| Index|User|     Model|      Device|  gt|    Source|\n",
            "+------+----+----------+------------+----+----------+\n",
            "|107066|   a|samsungold|samsungold_2|bike|phones_acc|\n",
            "|107067|   a|samsungold|samsungold_2|bike|phones_acc|\n",
            "|107068|   a|samsungold|samsungold_2|bike|phones_acc|\n",
            "|107069|   a|samsungold|samsungold_2|bike|phones_acc|\n",
            "|107070|   a|samsungold|samsungold_2|bike|phones_acc|\n",
            "+------+----+----------+------------+----+----------+\n",
            "only showing top 5 rows\n",
            "\n"
          ]
        }
      ]
    },
    {
      "cell_type": "code",
      "source": [
        "# Contagem do número total de usuários\n",
        "\n",
        "from pyspark.sql.functions import countDistinct\n",
        "\n",
        "total_users = user_database.select(countDistinct(\"User\")).collect()[0][0]\n",
        "\n",
        "print(\"Total de usuários:\", total_users)"
      ],
      "metadata": {
        "colab": {
          "base_uri": "https://localhost:8080/"
        },
        "id": "2ZLRSM4xTdiT",
        "outputId": "95d059d3-04f2-47da-a59d-3027baff9407"
      },
      "execution_count": null,
      "outputs": [
        {
          "output_type": "stream",
          "name": "stdout",
          "text": [
            "Total de usuários: 9\n"
          ]
        }
      ]
    },
    {
      "cell_type": "code",
      "source": [
        "print(f'Base unificada:\\n Usuários distintos: {total_users} \\n Total de registros: {user_database.count()}')"
      ],
      "metadata": {
        "colab": {
          "base_uri": "https://localhost:8080/"
        },
        "id": "fCEAjp4JVKz3",
        "outputId": "14687624-3064-4161-adba-c3d6d81b3525"
      },
      "execution_count": null,
      "outputs": [
        {
          "output_type": "stream",
          "name": "stdout",
          "text": [
            "Base unificada:\n",
            " Usuários distintos: 9 \n",
            " Total de registros: 52249900\n"
          ]
        }
      ]
    },
    {
      "cell_type": "code",
      "source": [
        "# Passo 5. Consulta e agregações dos dados agrupados por usuário\n",
        "\n",
        "# Agregação: Contagem de registros por usuário\n",
        "user_records = spark.sql(\"\"\"\n",
        "    SELECT User, COUNT(*) AS Total_Registros\n",
        "    FROM view_user_database\n",
        "    GROUP BY User\n",
        "    ORDER BY User\n",
        "\"\"\")\n",
        "\n",
        "# Agregação: Listagem dos modelos de aparelho por usuário e contagem de modelos distintos\n",
        "user_device_models = spark.sql(\"\"\"\n",
        "    SELECT User, COLLECT_SET(Model) AS Device_Models, COUNT(DISTINCT Model) AS Total_Modelos\n",
        "    FROM view_user_database\n",
        "    GROUP BY User\n",
        "    ORDER BY User\n",
        "\"\"\")"
      ],
      "metadata": {
        "id": "K8nX9JP7Q8JN"
      },
      "execution_count": null,
      "outputs": []
    },
    {
      "cell_type": "code",
      "source": [
        "# Exibição dos resultados\n",
        "user_records.show()\n",
        "user_device_models.show()"
      ],
      "metadata": {
        "colab": {
          "base_uri": "https://localhost:8080/"
        },
        "id": "nRlhwiDsTFeA",
        "outputId": "8ad291da-def9-495a-ea19-d66f25aab9f5"
      },
      "execution_count": null,
      "outputs": [
        {
          "output_type": "stream",
          "name": "stdout",
          "text": [
            "+----+---------------+\n",
            "|User|Total_Registros|\n",
            "+----+---------------+\n",
            "|   a|        5450080|\n",
            "|   b|        6195072|\n",
            "|   c|        5307192|\n",
            "|   d|        5348496|\n",
            "|   e|        6459996|\n",
            "|   f|        5538124|\n",
            "|   g|        6350788|\n",
            "|   h|        5369204|\n",
            "|   i|        6230948|\n",
            "+----+---------------+\n",
            "\n",
            "+----+--------------------+-------------+\n",
            "|User|       Device_Models|Total_Modelos|\n",
            "+----+--------------------+-------------+\n",
            "|   a|[nexus4, s3mini, ...|            4|\n",
            "|   b|[nexus4, s3mini, ...|            4|\n",
            "|   c|[nexus4, s3mini, ...|            4|\n",
            "|   d|[nexus4, s3mini, ...|            4|\n",
            "|   e|[nexus4, s3mini, ...|            4|\n",
            "|   f|[nexus4, s3mini, ...|            4|\n",
            "|   g|[nexus4, s3mini, ...|            4|\n",
            "|   h|[nexus4, s3mini, ...|            4|\n",
            "|   i|[nexus4, s3mini, ...|            4|\n",
            "+----+--------------------+-------------+\n",
            "\n"
          ]
        }
      ]
    },
    {
      "cell_type": "code",
      "source": [
        "spark.sql(\"SHOW TABLES\").show()"
      ],
      "metadata": {
        "colab": {
          "base_uri": "https://localhost:8080/"
        },
        "id": "n11yHW5kMT4-",
        "outputId": "5e0bc4d9-c507-4059-9f8c-61dfdec59375"
      },
      "execution_count": null,
      "outputs": [
        {
          "output_type": "stream",
          "name": "stdout",
          "text": [
            "+---------+------------------+-----------+\n",
            "|namespace|         tableName|isTemporary|\n",
            "+---------+------------------+-----------+\n",
            "|         |   view_phones_acc|       true|\n",
            "|         |   view_phones_gyr|       true|\n",
            "|         |view_user_database|       true|\n",
            "|         |    view_watch_acc|       true|\n",
            "|         |    view_watch_gyr|       true|\n",
            "+---------+------------------+-----------+\n",
            "\n"
          ]
        }
      ]
    }
  ]
}